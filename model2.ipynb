{
 "cells": [
  {
   "cell_type": "markdown",
   "metadata": {},
   "source": [
    "## Keras with TensorFlow using Nvidia architect\n",
    "### Generator version"
   ]
  },
  {
   "cell_type": "code",
   "execution_count": 13,
   "metadata": {
    "collapsed": true
   },
   "outputs": [],
   "source": [
    "# import required components\n",
    "import os\n",
    "import csv\n",
    "import cv2\n",
    "import numpy as np\n",
    "import sklearn\n",
    "from sklearn.utils import shuffle"
   ]
  },
  {
   "cell_type": "code",
   "execution_count": 14,
   "metadata": {},
   "outputs": [
    {
     "name": "stdout",
     "output_type": "stream",
     "text": [
      "8036\n"
     ]
    }
   ],
   "source": [
    "# read the log file\n",
    "samples=[]\n",
    "with open(\"./data/driving_log.csv\") as csvfile:\n",
    "    reader=csv.reader(csvfile)\n",
    "    next(reader)\n",
    "    for line in reader:\n",
    "        samples.append(line)\n",
    "print(len(samples))"
   ]
  },
  {
   "cell_type": "code",
   "execution_count": 15,
   "metadata": {},
   "outputs": [
    {
     "name": "stdout",
     "output_type": "stream",
     "text": [
      "6428 1608\n"
     ]
    }
   ],
   "source": [
    "from sklearn.model_selection import train_test_split\n",
    "train_samples, validation_samples = train_test_split(samples, test_size=0.2)\n",
    "print(len(train_samples),len(validation_samples))"
   ]
  },
  {
   "cell_type": "code",
   "execution_count": 16,
   "metadata": {
    "collapsed": true
   },
   "outputs": [],
   "source": [
    "# define the gererator function\n",
    "def generator(samples, batch_size=32):\n",
    "    num_samples = len(samples)\n",
    "    while 1: # Loop forever so the generator never terminates\n",
    "        shuffle(samples)\n",
    "        for offset in range(0, num_samples, batch_size):\n",
    "            batch_samples = samples[offset:offset+batch_size]\n",
    "\n",
    "            images = []\n",
    "            measurements = []\n",
    "            for batch_sample in batch_samples:\n",
    "                for i in range(3):\n",
    "                    name = './data/IMG/' + batch_sample[i].split('/')[-1]\n",
    "                    image = cv2.imread(name)\n",
    "                    image = cv2.cvtColor(image, cv2.COLOR_BGR2RGB)\n",
    "                    measurement = float(batch_sample[3])\n",
    "                    if i==1:\n",
    "                        measurement = measurement + 0.25\n",
    "                    elif i==2:\n",
    "                        measurement = measurement - 0.25\n",
    "                    \n",
    "                    images.append(image)\n",
    "                    measurements.append(measurement)\n",
    "\n",
    "            augmented_images, augmented_measurements = [], []\n",
    "            for image, measurement in zip(images, measurements):\n",
    "                    augmented_images.append(image)\n",
    "                    augmented_measurements.append(measurement)\n",
    "                    augmented_images.append(cv2.flip(image, 1))\n",
    "                    augmented_measurements.append(measurement * -1.0)\n",
    "                \n",
    "            X_train = np.array(augmented_images)\n",
    "            y_train = np.array(augmented_measurements)\n",
    "            \n",
    "            yield sklearn.utils.shuffle(X_train, y_train)"
   ]
  },
  {
   "cell_type": "code",
   "execution_count": 17,
   "metadata": {
    "collapsed": true
   },
   "outputs": [],
   "source": [
    "# compile and train the model using the generator function\n",
    "train_generator = generator(train_samples, batch_size=32)\n",
    "validation_generator = generator(validation_samples, batch_size=32)"
   ]
  },
  {
   "cell_type": "code",
   "execution_count": 18,
   "metadata": {
    "scrolled": true
   },
   "outputs": [
    {
     "name": "stdout",
     "output_type": "stream",
     "text": [
      "Epoch 1/10\n",
      "38568/38568 [==============================] - 81s - loss: 0.0266 - val_loss: 0.0231\n",
      "Epoch 2/10\n",
      "38568/38568 [==============================] - 80s - loss: 0.0219 - val_loss: 0.0225\n",
      "Epoch 3/10\n",
      "38568/38568 [==============================] - 80s - loss: 0.0208 - val_loss: 0.0221\n",
      "Epoch 4/10\n",
      "38568/38568 [==============================] - 80s - loss: 0.0202 - val_loss: 0.0213\n",
      "Epoch 5/10\n",
      "38568/38568 [==============================] - 80s - loss: 0.0196 - val_loss: 0.0211\n",
      "Epoch 6/10\n",
      "38568/38568 [==============================] - 80s - loss: 0.0190 - val_loss: 0.0206\n",
      "Epoch 7/10\n",
      "38568/38568 [==============================] - 80s - loss: 0.0186 - val_loss: 0.0199\n",
      "Epoch 8/10\n",
      "38568/38568 [==============================] - 80s - loss: 0.0180 - val_loss: 0.0197\n",
      "Epoch 9/10\n",
      "38568/38568 [==============================] - 80s - loss: 0.0177 - val_loss: 0.0192\n",
      "Epoch 10/10\n",
      "38568/38568 [==============================] - 80s - loss: 0.0174 - val_loss: 0.0191\n",
      "Model saved!\n"
     ]
    }
   ],
   "source": [
    "from keras.models import Sequential\n",
    "from keras.layers import Flatten, Dense, Lambda, Dropout\n",
    "from keras.layers.convolutional  import Convolution2D, MaxPooling2D, Cropping2D\n",
    "\n",
    "\n",
    "model=Sequential()\n",
    "model.add(Lambda(lambda x: (x/255.0) - 0.5,input_shape=(160,320,3)))\n",
    "model.add(Cropping2D(cropping=((70,25),(0,0))))\n",
    "model.add(Convolution2D(24,5,5,subsample=(2,2),activation=\"relu\"))\n",
    "model.add(Dropout(0.2))\n",
    "model.add(Convolution2D(36,5,5,subsample=(2,2),activation=\"relu\"))\n",
    "model.add(Dropout(0.2))\n",
    "model.add(Convolution2D(48,5,5,subsample=(2,2),activation=\"relu\"))\n",
    "model.add(Dropout(0.2))\n",
    "model.add(Convolution2D(64,3,3,activation=\"relu\"))\n",
    "model.add(Dropout(0.2))\n",
    "model.add(Convolution2D(64,3,3,activation=\"relu\"))\n",
    "model.add(Dropout(0.2))\n",
    "model.add(Flatten())\n",
    "model.add(Dense(100))\n",
    "model.add(Dense(50))\n",
    "model.add(Dense(10))\n",
    "model.add(Dense(1))\n",
    "\n",
    "model.compile(loss='mse', optimizer ='adam')\n",
    "model.fit_generator(train_generator, samples_per_epoch=len(train_samples)*6,\n",
    "                    validation_data=validation_generator,nb_val_samples=len(validation_samples)*6, \n",
    "                    nb_epoch=10, verbose=1)\n",
    "\n",
    "model.save('model.h5')\n",
    "print(\"Model saved!\")"
   ]
  },
  {
   "cell_type": "code",
   "execution_count": null,
   "metadata": {
    "collapsed": true
   },
   "outputs": [],
   "source": []
  },
  {
   "cell_type": "code",
   "execution_count": null,
   "metadata": {
    "collapsed": true
   },
   "outputs": [],
   "source": []
  }
 ],
 "metadata": {
  "anaconda-cloud": {},
  "kernelspec": {
   "display_name": "Python 3",
   "language": "python",
   "name": "python3"
  },
  "language_info": {
   "codemirror_mode": {
    "name": "ipython",
    "version": 3
   },
   "file_extension": ".py",
   "mimetype": "text/x-python",
   "name": "python",
   "nbconvert_exporter": "python",
   "pygments_lexer": "ipython3",
   "version": "3.5.2"
  },
  "widgets": {
   "state": {},
   "version": "1.1.2"
  }
 },
 "nbformat": 4,
 "nbformat_minor": 2
}
